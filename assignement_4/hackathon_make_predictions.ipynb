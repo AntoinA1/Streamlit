{
 "cells": [
  {
   "cell_type": "markdown",
   "id": "8090f896",
   "metadata": {},
   "source": [
    "# Packages"
   ]
  },
  {
   "cell_type": "code",
   "execution_count": 4,
   "id": "dac6dae8",
   "metadata": {},
   "outputs": [
    {
     "name": "stdout",
     "output_type": "stream",
     "text": [
      "The autoreload extension is already loaded. To reload it, use:\n",
      "  %reload_ext autoreload\n"
     ]
    }
   ],
   "source": [
    "%load_ext autoreload\n",
    "%autoreload 2\n",
    "\n",
    "import pandas as pd\n",
    "\n",
    "from constants import Constant as C\n",
    "from loaders import load_ratings\n",
    "from models import ContentBased\n",
    "from sklearn.impute import SimpleImputer\n",
    "from sklearn.linear_model import LogisticRegression\n",
    "from sklearn.linear_model import Ridge, Lasso\n",
    "import re\n"
   ]
  },
  {
   "cell_type": "markdown",
   "id": "c2f9e553",
   "metadata": {},
   "source": [
    "# How to generate predictions for the hackathon ?\n",
    "To submit predictions to the hackathon: \n",
    "- be sure to consider your latest version of ContentBased. Use your evaluator notebook to assess the quality of your model\n",
    "- run the make_hackathon_prediction() function in the present notebook with your best feature_method and regressor_method. This will generate a ratings_prediction.csv file\n",
    "- download ratings_prediction.csv and upload it on the onedrive of your group"
   ]
  },
  {
   "cell_type": "code",
   "execution_count": 6,
   "id": "ae7eadd9",
   "metadata": {},
   "outputs": [
    {
     "ename": "AssertionError",
     "evalue": "",
     "output_type": "error",
     "traceback": [
      "\u001b[0;31m---------------------------------------------------------------------------\u001b[0m",
      "\u001b[0;31mAssertionError\u001b[0m                            Traceback (most recent call last)",
      "\u001b[1;32m/Users/thomascollier/Downloads/assignement_4/hackathon_make_predictions.ipynb Cell 4\u001b[0m line \u001b[0;36m2\n\u001b[1;32m     <a href='vscode-notebook-cell:/Users/thomascollier/Downloads/assignement_4/hackathon_make_predictions.ipynb#W3sZmlsZQ%3D%3D?line=20'>21</a>\u001b[0m     \u001b[39m# 4) dump predictions\u001b[39;00m\n\u001b[1;32m     <a href='vscode-notebook-cell:/Users/thomascollier/Downloads/assignement_4/hackathon_make_predictions.ipynb#W3sZmlsZQ%3D%3D?line=21'>22</a>\u001b[0m     df_predictions\u001b[39m.\u001b[39mto_csv(\u001b[39mf\u001b[39m\u001b[39m'\u001b[39m\u001b[39mratings_predictions.csv\u001b[39m\u001b[39m'\u001b[39m, index\u001b[39m=\u001b[39m\u001b[39mFalse\u001b[39;00m)\n\u001b[0;32m---> <a href='vscode-notebook-cell:/Users/thomascollier/Downloads/assignement_4/hackathon_make_predictions.ipynb#W3sZmlsZQ%3D%3D?line=24'>25</a>\u001b[0m make_hackathon_prediction(\u001b[39m\"\u001b[39m\u001b[39mtitle_length\u001b[39m\u001b[39m\"\u001b[39m, \u001b[39m\"\u001b[39m\u001b[39mridge_regression\u001b[39m\u001b[39m\"\u001b[39m)\n",
      "\u001b[1;32m/Users/thomascollier/Downloads/assignement_4/hackathon_make_predictions.ipynb Cell 4\u001b[0m line \u001b[0;36m4\n\u001b[1;32m      <a href='vscode-notebook-cell:/Users/thomascollier/Downloads/assignement_4/hackathon_make_predictions.ipynb#W3sZmlsZQ%3D%3D?line=1'>2</a>\u001b[0m \u001b[39m\u001b[39m\u001b[39m\"\"\"Generate a prediction file on the test set\"\"\"\u001b[39;00m\n\u001b[1;32m      <a href='vscode-notebook-cell:/Users/thomascollier/Downloads/assignement_4/hackathon_make_predictions.ipynb#W3sZmlsZQ%3D%3D?line=2'>3</a>\u001b[0m \u001b[39m# 1) load train data - make sure to redirect the DATA_PATH to'data/hackathon'\u001b[39;00m\n\u001b[0;32m----> <a href='vscode-notebook-cell:/Users/thomascollier/Downloads/assignement_4/hackathon_make_predictions.ipynb#W3sZmlsZQ%3D%3D?line=3'>4</a>\u001b[0m \u001b[39massert\u001b[39;00m \u001b[39mstr\u001b[39m(C\u001b[39m.\u001b[39mDATA_PATH) \u001b[39m==\u001b[39m \u001b[39m'\u001b[39m\u001b[39mdata/hackathon\u001b[39m\u001b[39m'\u001b[39m\n\u001b[1;32m      <a href='vscode-notebook-cell:/Users/thomascollier/Downloads/assignement_4/hackathon_make_predictions.ipynb#W3sZmlsZQ%3D%3D?line=4'>5</a>\u001b[0m sp_ratings, df_ratings \u001b[39m=\u001b[39m load_ratings(surprise_format\u001b[39m=\u001b[39m\u001b[39mTrue\u001b[39;00m)\n\u001b[1;32m      <a href='vscode-notebook-cell:/Users/thomascollier/Downloads/assignement_4/hackathon_make_predictions.ipynb#W3sZmlsZQ%3D%3D?line=5'>6</a>\u001b[0m train_set \u001b[39m=\u001b[39m sp_ratings\u001b[39m.\u001b[39mbuild_full_trainset()\n",
      "\u001b[0;31mAssertionError\u001b[0m: "
     ]
    }
   ],
   "source": [
    "def make_hackathon_prediction(feature_method, regressor_method):\n",
    "    \"\"\"Generate a prediction file on the test set\"\"\"\n",
    "    \n",
    "    # 1) load train data - make sure to redirect the DATA_PATH to'data/hackathon'\n",
    "    assert str(C.DATA_PATH) == 'data/hackathon'\n",
    "    sp_ratings, df_ratings = load_ratings(surprise_format=True)\n",
    "    train_set = sp_ratings.build_full_trainset()\n",
    "    \n",
    "    # 2) train your ContentBased model on the train set\n",
    "    content_knn = ContentBased(feature_method, regressor_method)\n",
    "    content_knn.fit(train_set)\n",
    "    \n",
    "    # 3) make predictions on the test set\n",
    "    df_test = pd.read_csv('data/hackathon/evidence/ratings_test.csv')[C.USER_ITEM_RATINGS]\n",
    "    test_records = list(df_test.to_records(index=False))\n",
    "    predictions = content_knn.test(test_records)\n",
    "    output_predictions = []\n",
    "    for uid, iid, _, est, _ in predictions:\n",
    "        output_predictions.append([uid, iid, est])\n",
    "    df_predictions = pd.DataFrame(data=output_predictions, columns = df_test.columns)\n",
    "\n",
    "    # 4) dump predictions\n",
    "    df_predictions.to_csv(f'ratings_predictions.csv', index=False)\n",
    "\n",
    "    \n",
    "make_hackathon_prediction(\"title_length\", \"ridge_regression\")"
   ]
  }
 ],
 "metadata": {
  "kernelspec": {
   "display_name": "base",
   "language": "python",
   "name": "python3"
  },
  "language_info": {
   "codemirror_mode": {
    "name": "ipython",
    "version": 3
   },
   "file_extension": ".py",
   "mimetype": "text/x-python",
   "name": "python",
   "nbconvert_exporter": "python",
   "pygments_lexer": "ipython3",
   "version": "3.12.2"
  }
 },
 "nbformat": 4,
 "nbformat_minor": 5
}
